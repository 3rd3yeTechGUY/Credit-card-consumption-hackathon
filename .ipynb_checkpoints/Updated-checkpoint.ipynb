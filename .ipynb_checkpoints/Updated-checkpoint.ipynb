{
 "cells": [
  {
   "cell_type": "code",
   "execution_count": 2,
   "metadata": {},
   "outputs": [],
   "source": [
    "import pandas as pd\n",
    "from sklearn import preprocessing\n",
    "import seaborn as sns\n",
    "import matplotlib.pyplot as plt\n",
    "import numpy as np\n",
    "from sklearn.model_selection import train_test_split\n",
    "from sklearn.ensemble import RandomForestRegressor\n",
    "from sklearn.linear_model import Lasso\n",
    "from sklearn.model_selection import GridSearchCV\n",
    "from sklearn import metrics\n",
    "from yellowbrick.regressor import ResidualsPlot\n",
    "from sklearn.tree import DecisionTreeRegressor\n",
    "from sklearn.linear_model import LinearRegression\n",
    "from sklearn.preprocessing import StandardScaler\n",
    "from sklearn.preprocessing import MinMaxScaler\n",
    "from scipy.stats.mstats import winsorize\n",
    "import warnings\n",
    "warnings.filterwarnings('ignore')"
   ]
  },
  {
   "cell_type": "code",
   "execution_count": 3,
   "metadata": {},
   "outputs": [],
   "source": [
    "data = pd.read_csv('Train.csv')"
   ]
  },
  {
   "cell_type": "code",
   "execution_count": 4,
   "metadata": {},
   "outputs": [],
   "source": [
    "#function for dropping columns\n",
    "def drop_col(df,col_list):\n",
    "    for col in col_list:\n",
    "        if col in df.columns:\n",
    "            df.drop(col, axis = 1, inplace=True)\n",
    "    return df\n",
    "\n",
    "def plot_scatter(dataframe, target_col):\n",
    "    plt.figure()\n",
    "    for col in dataframe.columns:\n",
    "        if col != target_col:\n",
    "            plt.figure(figsize=(12,7))\n",
    "            plt.scatter(x=dataframe[col], y=dataframe[target_col])\n",
    "            plt.xlabel(col)\n",
    "            plt.ylabel(target_col)\n",
    "            \n",
    "#outlier analysis\n",
    "def plot_boxplots(dataframe):\n",
    "    for col in dataframe.columns:\n",
    "        plt.figure()\n",
    "        dataframe.boxplot([col])\n",
    "        \n",
    "#checking the number of rows for each variable that fall outside 3*IQR range\n",
    "def get_outliers_count(dataframe):\n",
    "    count = {}\n",
    "    for col in dataframe.columns:\n",
    "        sorted_col = sorted(dataframe[col])\n",
    "        Q1,Q3 = np.percentile(sorted_col , [25,75])\n",
    "        IQR = Q3 - Q1\n",
    "        lower_range = Q1 - (3 * IQR)\n",
    "        upper_range = Q3 + (3 * IQR)    \n",
    "        outliers_df = dataframe[(dataframe[col] > upper_range) | (dataframe[col] < lower_range)]\n",
    "        count[col] = outliers_df[col].count()\n",
    "    return count\n",
    "\n",
    "#removes outliers which are not in 3*IQR range\n",
    "def remove_outliers(dataframe, column):\n",
    "    sorted_col = sorted(dataframe[column])\n",
    "    Q1,Q3 = np.percentile(sorted_col , [25,75])\n",
    "    IQR = Q3 - Q1\n",
    "    lower_range = Q1 - (3 * IQR)\n",
    "    upper_range = Q3 + (3 * IQR)  \n",
    "    print(lower_range)\n",
    "    print(upper_range)\n",
    "    dataframe_out = dataframe[(dataframe[column] > lower_range) & (dataframe[column] < upper_range)]\n",
    "    return dataframe_out\n",
    "\n",
    "def rmsle(actual_column, predicted_column):\n",
    "    sum=0.0\n",
    "    for x,y in zip(actual_column,predicted_column):\n",
    "        if x<0 or y<0: #check for negative values. \n",
    "            continue\n",
    "        p = np.log(y+1)\n",
    "        r = np.log(x+1)\n",
    "        sum = sum + (p - r)**2\n",
    "    return (sum/len(predicted_column))**0.5\n",
    "\n",
    "def treat_outliers(dataframe, col_list):\n",
    "    for col in col_list:\n",
    "        dataframe[col] = winsorize(dataframe[col], limits=[0.05, 0.05],inclusive=(True, True))\n",
    "    return dataframe\n",
    "\n",
    "#for other variables using standard scaler\n",
    "def scale(dataframe, cols_list):\n",
    "    scaler = StandardScaler()\n",
    "    dataframe[cols_list] = scaler.fit_transform(dataframe[cols_list])\n",
    "    return dataframe,scaler"
   ]
  },
  {
   "cell_type": "code",
   "execution_count": 5,
   "metadata": {},
   "outputs": [],
   "source": [
    "not_req = ['ID','region_code','personal_loan_active','vehicle_loan_active','personal_loan_closed','vehicle_loan_closed','loan_enq']\n",
    "\n",
    "numerical_cols = ['age', 'cc_cons_apr', 'dc_cons_apr', 'cc_cons_may', 'dc_cons_may',\n",
    "       'cc_cons_jun', 'dc_cons_jun', 'cc_count_apr', 'cc_count_may',\n",
    "       'cc_count_jun', 'dc_count_apr', 'dc_count_may', 'dc_count_jun',\n",
    "       'card_lim', 'investment_1', 'investment_2', 'investment_3',\n",
    "       'investment_4', 'debit_amount_apr', 'credit_amount_apr',\n",
    "       'debit_count_apr', 'credit_count_apr', 'max_credit_amount_apr',\n",
    "       'debit_amount_may', 'credit_amount_may', 'credit_count_may',\n",
    "       'debit_count_may', 'max_credit_amount_may', 'debit_amount_jun',\n",
    "       'credit_amount_jun', 'credit_count_jun', 'debit_count_jun',\n",
    "       'max_credit_amount_jun', 'emi_active']\n",
    "\n",
    "def custom_pipeline(dataframe, scaler):\n",
    "    #dropping unnecessary columns\n",
    "    not_req = ['ID','region_code','personal_loan_active','vehicle_loan_active','personal_loan_closed','vehicle_loan_closed','loan_enq']\n",
    "    dataframe = dataframe.drop(not_req, axis=1)\n",
    "    \n",
    "    #one hot encoding on categorical data\n",
    "    dataframe = pd.get_dummies(data=dataframe, columns=['account_type', 'gender'])\n",
    "    \n",
    "    #list of numerical and categorical columns\n",
    "    numerical_cols = ['age', 'cc_cons_apr', 'dc_cons_apr', 'cc_cons_may', 'dc_cons_may',\n",
    "       'cc_cons_jun', 'dc_cons_jun', 'cc_count_apr', 'cc_count_may',\n",
    "       'cc_count_jun', 'dc_count_apr', 'dc_count_may', 'dc_count_jun',\n",
    "       'card_lim', 'investment_1', 'investment_2', 'investment_3',\n",
    "       'investment_4', 'debit_amount_apr', 'credit_amount_apr',\n",
    "       'debit_count_apr', 'credit_count_apr', 'max_credit_amount_apr',\n",
    "       'debit_amount_may', 'credit_amount_may', 'credit_count_may',\n",
    "       'debit_count_may', 'max_credit_amount_may', 'debit_amount_jun',\n",
    "       'credit_amount_jun', 'credit_count_jun', 'debit_count_jun',\n",
    "       'max_credit_amount_jun', 'emi_active']\n",
    "    cat_cols = ['account_type_current','account_type_saving','gender_F','gender_M']\n",
    "    \n",
    "    #scaling on test data using same scaler used to fit on train data\n",
    "    dataframe['investment_4'] = dataframe['investment_4'] - dataframe['investment_4'].min()\n",
    "    dataframe[numerical_cols] = np.log1p(dataframe[numerical_cols])\n",
    "    dataframe[numerical_cols] = scaler.transform(dataframe[numerical_cols])\n",
    "    return dataframe"
   ]
  },
  {
   "cell_type": "code",
   "execution_count": 6,
   "metadata": {},
   "outputs": [],
   "source": [
    "#removing unwanted columns \n",
    "data = drop_col(data, not_req)"
   ]
  },
  {
   "cell_type": "code",
   "execution_count": 7,
   "metadata": {},
   "outputs": [
    {
     "data": {
      "text/html": [
       "<div>\n",
       "<style scoped>\n",
       "    .dataframe tbody tr th:only-of-type {\n",
       "        vertical-align: middle;\n",
       "    }\n",
       "\n",
       "    .dataframe tbody tr th {\n",
       "        vertical-align: top;\n",
       "    }\n",
       "\n",
       "    .dataframe thead th {\n",
       "        text-align: right;\n",
       "    }\n",
       "</style>\n",
       "<table border=\"1\" class=\"dataframe\">\n",
       "  <thead>\n",
       "    <tr style=\"text-align: right;\">\n",
       "      <th></th>\n",
       "      <th>age</th>\n",
       "      <th>cc_cons_apr</th>\n",
       "      <th>dc_cons_apr</th>\n",
       "      <th>cc_cons_may</th>\n",
       "      <th>dc_cons_may</th>\n",
       "      <th>cc_cons_jun</th>\n",
       "      <th>dc_cons_jun</th>\n",
       "      <th>cc_count_apr</th>\n",
       "      <th>cc_count_may</th>\n",
       "      <th>cc_count_jun</th>\n",
       "      <th>...</th>\n",
       "      <th>credit_amount_jun</th>\n",
       "      <th>credit_count_jun</th>\n",
       "      <th>debit_count_jun</th>\n",
       "      <th>max_credit_amount_jun</th>\n",
       "      <th>emi_active</th>\n",
       "      <th>cc_cons</th>\n",
       "      <th>account_type_current</th>\n",
       "      <th>account_type_saving</th>\n",
       "      <th>gender_F</th>\n",
       "      <th>gender_M</th>\n",
       "    </tr>\n",
       "  </thead>\n",
       "  <tbody>\n",
       "    <tr>\n",
       "      <th>0</th>\n",
       "      <td>35</td>\n",
       "      <td>24893.00</td>\n",
       "      <td>378.00</td>\n",
       "      <td>10288.00</td>\n",
       "      <td>29664.00</td>\n",
       "      <td>16291.40</td>\n",
       "      <td>11432.00</td>\n",
       "      <td>2.0</td>\n",
       "      <td>26.0</td>\n",
       "      <td>10.0</td>\n",
       "      <td>...</td>\n",
       "      <td>12761.0</td>\n",
       "      <td>2.0</td>\n",
       "      <td>65.0</td>\n",
       "      <td>50836.0</td>\n",
       "      <td>1674.09</td>\n",
       "      <td>20014.0</td>\n",
       "      <td>1</td>\n",
       "      <td>0</td>\n",
       "      <td>0</td>\n",
       "      <td>1</td>\n",
       "    </tr>\n",
       "    <tr>\n",
       "      <th>1</th>\n",
       "      <td>35</td>\n",
       "      <td>18941.62</td>\n",
       "      <td>966.00</td>\n",
       "      <td>20672.00</td>\n",
       "      <td>287.00</td>\n",
       "      <td>4217.00</td>\n",
       "      <td>885.00</td>\n",
       "      <td>1.0</td>\n",
       "      <td>7.0</td>\n",
       "      <td>13.0</td>\n",
       "      <td>...</td>\n",
       "      <td>76206.0</td>\n",
       "      <td>21.0</td>\n",
       "      <td>63.0</td>\n",
       "      <td>23226.0</td>\n",
       "      <td>13043.34</td>\n",
       "      <td>10173.0</td>\n",
       "      <td>1</td>\n",
       "      <td>0</td>\n",
       "      <td>0</td>\n",
       "      <td>1</td>\n",
       "    </tr>\n",
       "    <tr>\n",
       "      <th>2</th>\n",
       "      <td>55</td>\n",
       "      <td>5678.87</td>\n",
       "      <td>2724.00</td>\n",
       "      <td>1964.50</td>\n",
       "      <td>3933.11</td>\n",
       "      <td>23956.25</td>\n",
       "      <td>5168.00</td>\n",
       "      <td>43.0</td>\n",
       "      <td>32.0</td>\n",
       "      <td>102.0</td>\n",
       "      <td>...</td>\n",
       "      <td>75283.0</td>\n",
       "      <td>7.0</td>\n",
       "      <td>1.0</td>\n",
       "      <td>27036.0</td>\n",
       "      <td>25375.27</td>\n",
       "      <td>16095.0</td>\n",
       "      <td>1</td>\n",
       "      <td>0</td>\n",
       "      <td>0</td>\n",
       "      <td>1</td>\n",
       "    </tr>\n",
       "    <tr>\n",
       "      <th>3</th>\n",
       "      <td>29</td>\n",
       "      <td>30489.50</td>\n",
       "      <td>1236.00</td>\n",
       "      <td>12609.88</td>\n",
       "      <td>9138.14</td>\n",
       "      <td>17521.00</td>\n",
       "      <td>13650.30</td>\n",
       "      <td>53.0</td>\n",
       "      <td>1.0</td>\n",
       "      <td>50.0</td>\n",
       "      <td>...</td>\n",
       "      <td>68708.0</td>\n",
       "      <td>21.0</td>\n",
       "      <td>83.0</td>\n",
       "      <td>43037.0</td>\n",
       "      <td>3544.33</td>\n",
       "      <td>7707.0</td>\n",
       "      <td>1</td>\n",
       "      <td>0</td>\n",
       "      <td>1</td>\n",
       "      <td>0</td>\n",
       "    </tr>\n",
       "    <tr>\n",
       "      <th>4</th>\n",
       "      <td>34</td>\n",
       "      <td>7441.40</td>\n",
       "      <td>6906.04</td>\n",
       "      <td>4364.00</td>\n",
       "      <td>1939.00</td>\n",
       "      <td>2121.00</td>\n",
       "      <td>6829.18</td>\n",
       "      <td>67.0</td>\n",
       "      <td>47.0</td>\n",
       "      <td>82.0</td>\n",
       "      <td>...</td>\n",
       "      <td>80140.0</td>\n",
       "      <td>8.0</td>\n",
       "      <td>32.0</td>\n",
       "      <td>32044.0</td>\n",
       "      <td>12780.44</td>\n",
       "      <td>96408.0</td>\n",
       "      <td>1</td>\n",
       "      <td>0</td>\n",
       "      <td>0</td>\n",
       "      <td>1</td>\n",
       "    </tr>\n",
       "  </tbody>\n",
       "</table>\n",
       "<p>5 rows × 39 columns</p>\n",
       "</div>"
      ],
      "text/plain": [
       "   age  cc_cons_apr  dc_cons_apr  cc_cons_may  dc_cons_may  cc_cons_jun  \\\n",
       "0   35     24893.00       378.00     10288.00     29664.00     16291.40   \n",
       "1   35     18941.62       966.00     20672.00       287.00      4217.00   \n",
       "2   55      5678.87      2724.00      1964.50      3933.11     23956.25   \n",
       "3   29     30489.50      1236.00     12609.88      9138.14     17521.00   \n",
       "4   34      7441.40      6906.04      4364.00      1939.00      2121.00   \n",
       "\n",
       "   dc_cons_jun  cc_count_apr  cc_count_may  cc_count_jun  ...  \\\n",
       "0     11432.00           2.0          26.0          10.0  ...   \n",
       "1       885.00           1.0           7.0          13.0  ...   \n",
       "2      5168.00          43.0          32.0         102.0  ...   \n",
       "3     13650.30          53.0           1.0          50.0  ...   \n",
       "4      6829.18          67.0          47.0          82.0  ...   \n",
       "\n",
       "   credit_amount_jun  credit_count_jun  debit_count_jun  \\\n",
       "0            12761.0               2.0             65.0   \n",
       "1            76206.0              21.0             63.0   \n",
       "2            75283.0               7.0              1.0   \n",
       "3            68708.0              21.0             83.0   \n",
       "4            80140.0               8.0             32.0   \n",
       "\n",
       "   max_credit_amount_jun  emi_active  cc_cons  account_type_current  \\\n",
       "0                50836.0     1674.09  20014.0                     1   \n",
       "1                23226.0    13043.34  10173.0                     1   \n",
       "2                27036.0    25375.27  16095.0                     1   \n",
       "3                43037.0     3544.33   7707.0                     1   \n",
       "4                32044.0    12780.44  96408.0                     1   \n",
       "\n",
       "   account_type_saving  gender_F  gender_M  \n",
       "0                    0         0         1  \n",
       "1                    0         0         1  \n",
       "2                    0         0         1  \n",
       "3                    0         1         0  \n",
       "4                    0         0         1  \n",
       "\n",
       "[5 rows x 39 columns]"
      ]
     },
     "execution_count": 7,
     "metadata": {},
     "output_type": "execute_result"
    }
   ],
   "source": [
    "#encoding categorical data using one hot encoding\n",
    "data = pd.get_dummies(data=data, columns=['account_type', 'gender'])\n",
    "data.head(5)"
   ]
  },
  {
   "cell_type": "code",
   "execution_count": 8,
   "metadata": {},
   "outputs": [],
   "source": [
    "cat_cols = ['account_type_current','account_type_saving','gender_F','gender_M']"
   ]
  },
  {
   "cell_type": "code",
   "execution_count": 9,
   "metadata": {},
   "outputs": [],
   "source": [
    "X = data.drop(['cc_cons'], axis=1) \n",
    "y = np.log1p(data['cc_cons'])"
   ]
  },
  {
   "cell_type": "code",
   "execution_count": 10,
   "metadata": {},
   "outputs": [],
   "source": [
    "treated_df = treat_outliers(X, numerical_cols)"
   ]
  },
  {
   "cell_type": "code",
   "execution_count": 11,
   "metadata": {},
   "outputs": [
    {
     "data": {
      "text/plain": [
       "count    15000.000000\n",
       "mean      3386.948053\n",
       "std       6639.003110\n",
       "min      -6281.379880\n",
       "25%          0.000000\n",
       "50%       2351.000000\n",
       "75%       6885.000000\n",
       "max      19765.000000\n",
       "Name: investment_4, dtype: float64"
      ]
     },
     "execution_count": 11,
     "metadata": {},
     "output_type": "execute_result"
    }
   ],
   "source": [
    "treated_df['investment_4'].describe()"
   ]
  },
  {
   "cell_type": "code",
   "execution_count": 12,
   "metadata": {},
   "outputs": [],
   "source": [
    "treated_df['investment_4'] = treated_df['investment_4']-treated_df['investment_4'].min()"
   ]
  },
  {
   "cell_type": "code",
   "execution_count": 13,
   "metadata": {},
   "outputs": [
    {
     "data": {
      "text/html": [
       "<div>\n",
       "<style scoped>\n",
       "    .dataframe tbody tr th:only-of-type {\n",
       "        vertical-align: middle;\n",
       "    }\n",
       "\n",
       "    .dataframe tbody tr th {\n",
       "        vertical-align: top;\n",
       "    }\n",
       "\n",
       "    .dataframe thead th {\n",
       "        text-align: right;\n",
       "    }\n",
       "</style>\n",
       "<table border=\"1\" class=\"dataframe\">\n",
       "  <thead>\n",
       "    <tr style=\"text-align: right;\">\n",
       "      <th></th>\n",
       "      <th>Column</th>\n",
       "      <th>Outliers count</th>\n",
       "    </tr>\n",
       "  </thead>\n",
       "  <tbody>\n",
       "    <tr>\n",
       "      <th>0</th>\n",
       "      <td>age</td>\n",
       "      <td>0</td>\n",
       "    </tr>\n",
       "    <tr>\n",
       "      <th>1</th>\n",
       "      <td>cc_cons_apr</td>\n",
       "      <td>0</td>\n",
       "    </tr>\n",
       "    <tr>\n",
       "      <th>2</th>\n",
       "      <td>dc_cons_apr</td>\n",
       "      <td>0</td>\n",
       "    </tr>\n",
       "    <tr>\n",
       "      <th>3</th>\n",
       "      <td>cc_cons_may</td>\n",
       "      <td>0</td>\n",
       "    </tr>\n",
       "    <tr>\n",
       "      <th>4</th>\n",
       "      <td>dc_cons_may</td>\n",
       "      <td>0</td>\n",
       "    </tr>\n",
       "    <tr>\n",
       "      <th>5</th>\n",
       "      <td>cc_cons_jun</td>\n",
       "      <td>0</td>\n",
       "    </tr>\n",
       "    <tr>\n",
       "      <th>6</th>\n",
       "      <td>dc_cons_jun</td>\n",
       "      <td>0</td>\n",
       "    </tr>\n",
       "    <tr>\n",
       "      <th>7</th>\n",
       "      <td>cc_count_apr</td>\n",
       "      <td>0</td>\n",
       "    </tr>\n",
       "    <tr>\n",
       "      <th>8</th>\n",
       "      <td>cc_count_may</td>\n",
       "      <td>0</td>\n",
       "    </tr>\n",
       "    <tr>\n",
       "      <th>9</th>\n",
       "      <td>cc_count_jun</td>\n",
       "      <td>0</td>\n",
       "    </tr>\n",
       "    <tr>\n",
       "      <th>10</th>\n",
       "      <td>dc_count_apr</td>\n",
       "      <td>0</td>\n",
       "    </tr>\n",
       "    <tr>\n",
       "      <th>11</th>\n",
       "      <td>dc_count_may</td>\n",
       "      <td>0</td>\n",
       "    </tr>\n",
       "    <tr>\n",
       "      <th>12</th>\n",
       "      <td>dc_count_jun</td>\n",
       "      <td>0</td>\n",
       "    </tr>\n",
       "    <tr>\n",
       "      <th>13</th>\n",
       "      <td>card_lim</td>\n",
       "      <td>0</td>\n",
       "    </tr>\n",
       "    <tr>\n",
       "      <th>14</th>\n",
       "      <td>investment_1</td>\n",
       "      <td>1831</td>\n",
       "    </tr>\n",
       "    <tr>\n",
       "      <th>15</th>\n",
       "      <td>investment_2</td>\n",
       "      <td>820</td>\n",
       "    </tr>\n",
       "    <tr>\n",
       "      <th>16</th>\n",
       "      <td>investment_3</td>\n",
       "      <td>751</td>\n",
       "    </tr>\n",
       "    <tr>\n",
       "      <th>17</th>\n",
       "      <td>investment_4</td>\n",
       "      <td>0</td>\n",
       "    </tr>\n",
       "    <tr>\n",
       "      <th>18</th>\n",
       "      <td>debit_amount_apr</td>\n",
       "      <td>0</td>\n",
       "    </tr>\n",
       "    <tr>\n",
       "      <th>19</th>\n",
       "      <td>credit_amount_apr</td>\n",
       "      <td>0</td>\n",
       "    </tr>\n",
       "    <tr>\n",
       "      <th>20</th>\n",
       "      <td>debit_count_apr</td>\n",
       "      <td>0</td>\n",
       "    </tr>\n",
       "    <tr>\n",
       "      <th>21</th>\n",
       "      <td>credit_count_apr</td>\n",
       "      <td>0</td>\n",
       "    </tr>\n",
       "    <tr>\n",
       "      <th>22</th>\n",
       "      <td>max_credit_amount_apr</td>\n",
       "      <td>0</td>\n",
       "    </tr>\n",
       "    <tr>\n",
       "      <th>23</th>\n",
       "      <td>debit_amount_may</td>\n",
       "      <td>0</td>\n",
       "    </tr>\n",
       "    <tr>\n",
       "      <th>24</th>\n",
       "      <td>credit_amount_may</td>\n",
       "      <td>0</td>\n",
       "    </tr>\n",
       "    <tr>\n",
       "      <th>25</th>\n",
       "      <td>credit_count_may</td>\n",
       "      <td>2060</td>\n",
       "    </tr>\n",
       "    <tr>\n",
       "      <th>26</th>\n",
       "      <td>debit_count_may</td>\n",
       "      <td>0</td>\n",
       "    </tr>\n",
       "    <tr>\n",
       "      <th>27</th>\n",
       "      <td>max_credit_amount_may</td>\n",
       "      <td>0</td>\n",
       "    </tr>\n",
       "    <tr>\n",
       "      <th>28</th>\n",
       "      <td>debit_amount_jun</td>\n",
       "      <td>0</td>\n",
       "    </tr>\n",
       "    <tr>\n",
       "      <th>29</th>\n",
       "      <td>credit_amount_jun</td>\n",
       "      <td>0</td>\n",
       "    </tr>\n",
       "    <tr>\n",
       "      <th>30</th>\n",
       "      <td>credit_count_jun</td>\n",
       "      <td>1026</td>\n",
       "    </tr>\n",
       "    <tr>\n",
       "      <th>31</th>\n",
       "      <td>debit_count_jun</td>\n",
       "      <td>0</td>\n",
       "    </tr>\n",
       "    <tr>\n",
       "      <th>32</th>\n",
       "      <td>max_credit_amount_jun</td>\n",
       "      <td>0</td>\n",
       "    </tr>\n",
       "    <tr>\n",
       "      <th>33</th>\n",
       "      <td>emi_active</td>\n",
       "      <td>881</td>\n",
       "    </tr>\n",
       "    <tr>\n",
       "      <th>34</th>\n",
       "      <td>account_type_current</td>\n",
       "      <td>2273</td>\n",
       "    </tr>\n",
       "    <tr>\n",
       "      <th>35</th>\n",
       "      <td>account_type_saving</td>\n",
       "      <td>2273</td>\n",
       "    </tr>\n",
       "    <tr>\n",
       "      <th>36</th>\n",
       "      <td>gender_F</td>\n",
       "      <td>2055</td>\n",
       "    </tr>\n",
       "    <tr>\n",
       "      <th>37</th>\n",
       "      <td>gender_M</td>\n",
       "      <td>2055</td>\n",
       "    </tr>\n",
       "  </tbody>\n",
       "</table>\n",
       "</div>"
      ],
      "text/plain": [
       "                   Column  Outliers count\n",
       "0                     age               0\n",
       "1             cc_cons_apr               0\n",
       "2             dc_cons_apr               0\n",
       "3             cc_cons_may               0\n",
       "4             dc_cons_may               0\n",
       "5             cc_cons_jun               0\n",
       "6             dc_cons_jun               0\n",
       "7            cc_count_apr               0\n",
       "8            cc_count_may               0\n",
       "9            cc_count_jun               0\n",
       "10           dc_count_apr               0\n",
       "11           dc_count_may               0\n",
       "12           dc_count_jun               0\n",
       "13               card_lim               0\n",
       "14           investment_1            1831\n",
       "15           investment_2             820\n",
       "16           investment_3             751\n",
       "17           investment_4               0\n",
       "18       debit_amount_apr               0\n",
       "19      credit_amount_apr               0\n",
       "20        debit_count_apr               0\n",
       "21       credit_count_apr               0\n",
       "22  max_credit_amount_apr               0\n",
       "23       debit_amount_may               0\n",
       "24      credit_amount_may               0\n",
       "25       credit_count_may            2060\n",
       "26        debit_count_may               0\n",
       "27  max_credit_amount_may               0\n",
       "28       debit_amount_jun               0\n",
       "29      credit_amount_jun               0\n",
       "30       credit_count_jun            1026\n",
       "31        debit_count_jun               0\n",
       "32  max_credit_amount_jun               0\n",
       "33             emi_active             881\n",
       "34   account_type_current            2273\n",
       "35    account_type_saving            2273\n",
       "36               gender_F            2055\n",
       "37               gender_M            2055"
      ]
     },
     "execution_count": 13,
     "metadata": {},
     "output_type": "execute_result"
    }
   ],
   "source": [
    "count_dict = get_outliers_count(treated_df)\n",
    "outliers_count_df = pd.DataFrame(count_dict.items(), columns=['Column', 'Outliers count'])\n",
    "outliers_count_df"
   ]
  },
  {
   "cell_type": "code",
   "execution_count": 14,
   "metadata": {},
   "outputs": [
    {
     "data": {
      "text/plain": [
       "count    15000.000000\n",
       "mean      9668.327933\n",
       "std       6639.003110\n",
       "min          0.000000\n",
       "25%       6281.379880\n",
       "50%       8632.379880\n",
       "75%      13166.379880\n",
       "max      26046.379880\n",
       "Name: investment_4, dtype: float64"
      ]
     },
     "execution_count": 14,
     "metadata": {},
     "output_type": "execute_result"
    }
   ],
   "source": [
    "treated_df['investment_4'].describe()"
   ]
  },
  {
   "cell_type": "code",
   "execution_count": 15,
   "metadata": {},
   "outputs": [],
   "source": [
    "#taking log transformation to remove skewness\n",
    "treated_df[numerical_cols] = np.log1p(treated_df[numerical_cols])"
   ]
  },
  {
   "cell_type": "code",
   "execution_count": 16,
   "metadata": {},
   "outputs": [
    {
     "data": {
      "text/html": [
       "<div>\n",
       "<style scoped>\n",
       "    .dataframe tbody tr th:only-of-type {\n",
       "        vertical-align: middle;\n",
       "    }\n",
       "\n",
       "    .dataframe tbody tr th {\n",
       "        vertical-align: top;\n",
       "    }\n",
       "\n",
       "    .dataframe thead th {\n",
       "        text-align: right;\n",
       "    }\n",
       "</style>\n",
       "<table border=\"1\" class=\"dataframe\">\n",
       "  <thead>\n",
       "    <tr style=\"text-align: right;\">\n",
       "      <th></th>\n",
       "      <th>age</th>\n",
       "      <th>cc_cons_apr</th>\n",
       "      <th>dc_cons_apr</th>\n",
       "      <th>cc_cons_may</th>\n",
       "      <th>dc_cons_may</th>\n",
       "      <th>cc_cons_jun</th>\n",
       "      <th>dc_cons_jun</th>\n",
       "      <th>cc_count_apr</th>\n",
       "      <th>cc_count_may</th>\n",
       "      <th>cc_count_jun</th>\n",
       "      <th>...</th>\n",
       "      <th>debit_amount_jun</th>\n",
       "      <th>credit_amount_jun</th>\n",
       "      <th>credit_count_jun</th>\n",
       "      <th>debit_count_jun</th>\n",
       "      <th>max_credit_amount_jun</th>\n",
       "      <th>emi_active</th>\n",
       "      <th>account_type_current</th>\n",
       "      <th>account_type_saving</th>\n",
       "      <th>gender_F</th>\n",
       "      <th>gender_M</th>\n",
       "    </tr>\n",
       "  </thead>\n",
       "  <tbody>\n",
       "    <tr>\n",
       "      <th>0</th>\n",
       "      <td>3.583519</td>\n",
       "      <td>10.122382</td>\n",
       "      <td>5.937536</td>\n",
       "      <td>9.238831</td>\n",
       "      <td>10.146826</td>\n",
       "      <td>9.698454</td>\n",
       "      <td>9.344259</td>\n",
       "      <td>1.098612</td>\n",
       "      <td>3.295837</td>\n",
       "      <td>2.397895</td>\n",
       "      <td>...</td>\n",
       "      <td>10.310695</td>\n",
       "      <td>9.454227</td>\n",
       "      <td>1.098612</td>\n",
       "      <td>4.189655</td>\n",
       "      <td>10.836380</td>\n",
       "      <td>7.423622</td>\n",
       "      <td>1</td>\n",
       "      <td>0</td>\n",
       "      <td>0</td>\n",
       "      <td>1</td>\n",
       "    </tr>\n",
       "    <tr>\n",
       "      <th>1</th>\n",
       "      <td>3.583519</td>\n",
       "      <td>9.849170</td>\n",
       "      <td>6.874198</td>\n",
       "      <td>9.936584</td>\n",
       "      <td>6.021023</td>\n",
       "      <td>8.347116</td>\n",
       "      <td>6.786717</td>\n",
       "      <td>0.693147</td>\n",
       "      <td>2.079442</td>\n",
       "      <td>2.639057</td>\n",
       "      <td>...</td>\n",
       "      <td>10.648279</td>\n",
       "      <td>11.241209</td>\n",
       "      <td>3.091042</td>\n",
       "      <td>4.158883</td>\n",
       "      <td>10.053071</td>\n",
       "      <td>9.476110</td>\n",
       "      <td>1</td>\n",
       "      <td>0</td>\n",
       "      <td>0</td>\n",
       "      <td>1</td>\n",
       "    </tr>\n",
       "    <tr>\n",
       "      <th>2</th>\n",
       "      <td>4.025352</td>\n",
       "      <td>8.644684</td>\n",
       "      <td>7.910224</td>\n",
       "      <td>7.583502</td>\n",
       "      <td>8.277440</td>\n",
       "      <td>10.084026</td>\n",
       "      <td>8.550435</td>\n",
       "      <td>3.784190</td>\n",
       "      <td>3.496508</td>\n",
       "      <td>4.499810</td>\n",
       "      <td>...</td>\n",
       "      <td>10.974630</td>\n",
       "      <td>11.229023</td>\n",
       "      <td>2.079442</td>\n",
       "      <td>1.098612</td>\n",
       "      <td>10.204962</td>\n",
       "      <td>10.141570</td>\n",
       "      <td>1</td>\n",
       "      <td>0</td>\n",
       "      <td>0</td>\n",
       "      <td>1</td>\n",
       "    </tr>\n",
       "    <tr>\n",
       "      <th>3</th>\n",
       "      <td>3.401197</td>\n",
       "      <td>10.325170</td>\n",
       "      <td>7.120444</td>\n",
       "      <td>9.442315</td>\n",
       "      <td>9.120322</td>\n",
       "      <td>9.771213</td>\n",
       "      <td>9.521590</td>\n",
       "      <td>3.988984</td>\n",
       "      <td>1.098612</td>\n",
       "      <td>3.931826</td>\n",
       "      <td>...</td>\n",
       "      <td>11.154141</td>\n",
       "      <td>11.137635</td>\n",
       "      <td>3.091042</td>\n",
       "      <td>4.430817</td>\n",
       "      <td>10.669839</td>\n",
       "      <td>8.173387</td>\n",
       "      <td>1</td>\n",
       "      <td>0</td>\n",
       "      <td>1</td>\n",
       "      <td>0</td>\n",
       "    </tr>\n",
       "    <tr>\n",
       "      <th>4</th>\n",
       "      <td>3.555348</td>\n",
       "      <td>8.914949</td>\n",
       "      <td>8.840296</td>\n",
       "      <td>8.381373</td>\n",
       "      <td>7.570443</td>\n",
       "      <td>7.660114</td>\n",
       "      <td>8.829106</td>\n",
       "      <td>4.219508</td>\n",
       "      <td>3.871201</td>\n",
       "      <td>4.418841</td>\n",
       "      <td>...</td>\n",
       "      <td>9.217515</td>\n",
       "      <td>11.291543</td>\n",
       "      <td>2.197225</td>\n",
       "      <td>3.496508</td>\n",
       "      <td>10.374896</td>\n",
       "      <td>9.455749</td>\n",
       "      <td>1</td>\n",
       "      <td>0</td>\n",
       "      <td>0</td>\n",
       "      <td>1</td>\n",
       "    </tr>\n",
       "  </tbody>\n",
       "</table>\n",
       "<p>5 rows × 38 columns</p>\n",
       "</div>"
      ],
      "text/plain": [
       "        age  cc_cons_apr  dc_cons_apr  cc_cons_may  dc_cons_may  cc_cons_jun  \\\n",
       "0  3.583519    10.122382     5.937536     9.238831    10.146826     9.698454   \n",
       "1  3.583519     9.849170     6.874198     9.936584     6.021023     8.347116   \n",
       "2  4.025352     8.644684     7.910224     7.583502     8.277440    10.084026   \n",
       "3  3.401197    10.325170     7.120444     9.442315     9.120322     9.771213   \n",
       "4  3.555348     8.914949     8.840296     8.381373     7.570443     7.660114   \n",
       "\n",
       "   dc_cons_jun  cc_count_apr  cc_count_may  cc_count_jun  ...  \\\n",
       "0     9.344259      1.098612      3.295837      2.397895  ...   \n",
       "1     6.786717      0.693147      2.079442      2.639057  ...   \n",
       "2     8.550435      3.784190      3.496508      4.499810  ...   \n",
       "3     9.521590      3.988984      1.098612      3.931826  ...   \n",
       "4     8.829106      4.219508      3.871201      4.418841  ...   \n",
       "\n",
       "   debit_amount_jun  credit_amount_jun  credit_count_jun  debit_count_jun  \\\n",
       "0         10.310695           9.454227          1.098612         4.189655   \n",
       "1         10.648279          11.241209          3.091042         4.158883   \n",
       "2         10.974630          11.229023          2.079442         1.098612   \n",
       "3         11.154141          11.137635          3.091042         4.430817   \n",
       "4          9.217515          11.291543          2.197225         3.496508   \n",
       "\n",
       "   max_credit_amount_jun  emi_active  account_type_current  \\\n",
       "0              10.836380    7.423622                     1   \n",
       "1              10.053071    9.476110                     1   \n",
       "2              10.204962   10.141570                     1   \n",
       "3              10.669839    8.173387                     1   \n",
       "4              10.374896    9.455749                     1   \n",
       "\n",
       "   account_type_saving  gender_F  gender_M  \n",
       "0                    0         0         1  \n",
       "1                    0         0         1  \n",
       "2                    0         0         1  \n",
       "3                    0         1         0  \n",
       "4                    0         0         1  \n",
       "\n",
       "[5 rows x 38 columns]"
      ]
     },
     "execution_count": 16,
     "metadata": {},
     "output_type": "execute_result"
    }
   ],
   "source": [
    "treated_df.head()"
   ]
  },
  {
   "cell_type": "code",
   "execution_count": 17,
   "metadata": {},
   "outputs": [],
   "source": [
    "scaled_df,scaler_train = scale(treated_df, numerical_cols)"
   ]
  },
  {
   "cell_type": "code",
   "execution_count": 18,
   "metadata": {},
   "outputs": [
    {
     "data": {
      "text/html": [
       "<div>\n",
       "<style scoped>\n",
       "    .dataframe tbody tr th:only-of-type {\n",
       "        vertical-align: middle;\n",
       "    }\n",
       "\n",
       "    .dataframe tbody tr th {\n",
       "        vertical-align: top;\n",
       "    }\n",
       "\n",
       "    .dataframe thead th {\n",
       "        text-align: right;\n",
       "    }\n",
       "</style>\n",
       "<table border=\"1\" class=\"dataframe\">\n",
       "  <thead>\n",
       "    <tr style=\"text-align: right;\">\n",
       "      <th></th>\n",
       "      <th>age</th>\n",
       "      <th>cc_cons_apr</th>\n",
       "      <th>dc_cons_apr</th>\n",
       "      <th>cc_cons_may</th>\n",
       "      <th>dc_cons_may</th>\n",
       "      <th>cc_cons_jun</th>\n",
       "      <th>dc_cons_jun</th>\n",
       "      <th>cc_count_apr</th>\n",
       "      <th>cc_count_may</th>\n",
       "      <th>cc_count_jun</th>\n",
       "      <th>...</th>\n",
       "      <th>debit_amount_jun</th>\n",
       "      <th>credit_amount_jun</th>\n",
       "      <th>credit_count_jun</th>\n",
       "      <th>debit_count_jun</th>\n",
       "      <th>max_credit_amount_jun</th>\n",
       "      <th>emi_active</th>\n",
       "      <th>account_type_current</th>\n",
       "      <th>account_type_saving</th>\n",
       "      <th>gender_F</th>\n",
       "      <th>gender_M</th>\n",
       "    </tr>\n",
       "  </thead>\n",
       "  <tbody>\n",
       "    <tr>\n",
       "      <th>0</th>\n",
       "      <td>-0.627754</td>\n",
       "      <td>0.886938</td>\n",
       "      <td>-1.930975</td>\n",
       "      <td>0.202100</td>\n",
       "      <td>1.749876</td>\n",
       "      <td>0.881675</td>\n",
       "      <td>1.105271</td>\n",
       "      <td>-1.284830</td>\n",
       "      <td>0.310383</td>\n",
       "      <td>-0.823397</td>\n",
       "      <td>...</td>\n",
       "      <td>-0.453581</td>\n",
       "      <td>-1.228801</td>\n",
       "      <td>-1.242310</td>\n",
       "      <td>0.767816</td>\n",
       "      <td>0.561359</td>\n",
       "      <td>-0.545951</td>\n",
       "      <td>1</td>\n",
       "      <td>0</td>\n",
       "      <td>0</td>\n",
       "      <td>1</td>\n",
       "    </tr>\n",
       "    <tr>\n",
       "      <th>1</th>\n",
       "      <td>-0.627754</td>\n",
       "      <td>0.633492</td>\n",
       "      <td>-1.141069</td>\n",
       "      <td>0.834506</td>\n",
       "      <td>-1.937596</td>\n",
       "      <td>-0.392320</td>\n",
       "      <td>-1.108288</td>\n",
       "      <td>-1.621500</td>\n",
       "      <td>-0.840533</td>\n",
       "      <td>-0.591689</td>\n",
       "      <td>...</td>\n",
       "      <td>-0.074495</td>\n",
       "      <td>0.563939</td>\n",
       "      <td>0.647339</td>\n",
       "      <td>0.737690</td>\n",
       "      <td>-0.229221</td>\n",
       "      <td>0.955852</td>\n",
       "      <td>1</td>\n",
       "      <td>0</td>\n",
       "      <td>0</td>\n",
       "      <td>1</td>\n",
       "    </tr>\n",
       "    <tr>\n",
       "      <th>2</th>\n",
       "      <td>0.967774</td>\n",
       "      <td>-0.483851</td>\n",
       "      <td>-0.267369</td>\n",
       "      <td>-1.298199</td>\n",
       "      <td>0.079096</td>\n",
       "      <td>1.245179</td>\n",
       "      <td>0.418214</td>\n",
       "      <td>0.945085</td>\n",
       "      <td>0.500251</td>\n",
       "      <td>1.196119</td>\n",
       "      <td>...</td>\n",
       "      <td>0.291977</td>\n",
       "      <td>0.551714</td>\n",
       "      <td>-0.312078</td>\n",
       "      <td>-2.258309</td>\n",
       "      <td>-0.075920</td>\n",
       "      <td>1.442769</td>\n",
       "      <td>1</td>\n",
       "      <td>0</td>\n",
       "      <td>0</td>\n",
       "      <td>1</td>\n",
       "    </tr>\n",
       "    <tr>\n",
       "      <th>3</th>\n",
       "      <td>-1.286147</td>\n",
       "      <td>1.075055</td>\n",
       "      <td>-0.933405</td>\n",
       "      <td>0.386528</td>\n",
       "      <td>0.832429</td>\n",
       "      <td>0.950269</td>\n",
       "      <td>1.258752</td>\n",
       "      <td>1.115132</td>\n",
       "      <td>-1.768563</td>\n",
       "      <td>0.650401</td>\n",
       "      <td>...</td>\n",
       "      <td>0.493557</td>\n",
       "      <td>0.460032</td>\n",
       "      <td>0.647339</td>\n",
       "      <td>1.003913</td>\n",
       "      <td>0.393272</td>\n",
       "      <td>0.002651</td>\n",
       "      <td>1</td>\n",
       "      <td>0</td>\n",
       "      <td>1</td>\n",
       "      <td>0</td>\n",
       "    </tr>\n",
       "    <tr>\n",
       "      <th>4</th>\n",
       "      <td>-0.729484</td>\n",
       "      <td>-0.233139</td>\n",
       "      <td>0.516980</td>\n",
       "      <td>-0.575052</td>\n",
       "      <td>-0.552789</td>\n",
       "      <td>-1.040002</td>\n",
       "      <td>0.659405</td>\n",
       "      <td>1.306542</td>\n",
       "      <td>0.854775</td>\n",
       "      <td>1.118324</td>\n",
       "      <td>...</td>\n",
       "      <td>-1.681154</td>\n",
       "      <td>0.614435</td>\n",
       "      <td>-0.200371</td>\n",
       "      <td>0.089226</td>\n",
       "      <td>0.095592</td>\n",
       "      <td>0.940955</td>\n",
       "      <td>1</td>\n",
       "      <td>0</td>\n",
       "      <td>0</td>\n",
       "      <td>1</td>\n",
       "    </tr>\n",
       "  </tbody>\n",
       "</table>\n",
       "<p>5 rows × 38 columns</p>\n",
       "</div>"
      ],
      "text/plain": [
       "        age  cc_cons_apr  dc_cons_apr  cc_cons_may  dc_cons_may  cc_cons_jun  \\\n",
       "0 -0.627754     0.886938    -1.930975     0.202100     1.749876     0.881675   \n",
       "1 -0.627754     0.633492    -1.141069     0.834506    -1.937596    -0.392320   \n",
       "2  0.967774    -0.483851    -0.267369    -1.298199     0.079096     1.245179   \n",
       "3 -1.286147     1.075055    -0.933405     0.386528     0.832429     0.950269   \n",
       "4 -0.729484    -0.233139     0.516980    -0.575052    -0.552789    -1.040002   \n",
       "\n",
       "   dc_cons_jun  cc_count_apr  cc_count_may  cc_count_jun  ...  \\\n",
       "0     1.105271     -1.284830      0.310383     -0.823397  ...   \n",
       "1    -1.108288     -1.621500     -0.840533     -0.591689  ...   \n",
       "2     0.418214      0.945085      0.500251      1.196119  ...   \n",
       "3     1.258752      1.115132     -1.768563      0.650401  ...   \n",
       "4     0.659405      1.306542      0.854775      1.118324  ...   \n",
       "\n",
       "   debit_amount_jun  credit_amount_jun  credit_count_jun  debit_count_jun  \\\n",
       "0         -0.453581          -1.228801         -1.242310         0.767816   \n",
       "1         -0.074495           0.563939          0.647339         0.737690   \n",
       "2          0.291977           0.551714         -0.312078        -2.258309   \n",
       "3          0.493557           0.460032          0.647339         1.003913   \n",
       "4         -1.681154           0.614435         -0.200371         0.089226   \n",
       "\n",
       "   max_credit_amount_jun  emi_active  account_type_current  \\\n",
       "0               0.561359   -0.545951                     1   \n",
       "1              -0.229221    0.955852                     1   \n",
       "2              -0.075920    1.442769                     1   \n",
       "3               0.393272    0.002651                     1   \n",
       "4               0.095592    0.940955                     1   \n",
       "\n",
       "   account_type_saving  gender_F  gender_M  \n",
       "0                    0         0         1  \n",
       "1                    0         0         1  \n",
       "2                    0         0         1  \n",
       "3                    0         1         0  \n",
       "4                    0         0         1  \n",
       "\n",
       "[5 rows x 38 columns]"
      ]
     },
     "execution_count": 18,
     "metadata": {},
     "output_type": "execute_result"
    }
   ],
   "source": [
    "scaled_df.head()"
   ]
  },
  {
   "cell_type": "code",
   "execution_count": 19,
   "metadata": {},
   "outputs": [
    {
     "name": "stdout",
     "output_type": "stream",
     "text": [
      "Training score: 0.004113488975045265\n",
      "Test score: -0.004607596375167278\n"
     ]
    }
   ],
   "source": [
    "#assessing linear model on this data\n",
    "X_train, X_test, y_train, y_test = train_test_split(scaled_df, y, test_size=0.33, random_state=12)\n",
    "linear_model = LinearRegression()\n",
    "linear_model.fit(X_train, y_train)\n",
    "y_pred = linear_model.predict(X_test)\n",
    "print(\"Training score: \"+str(linear_model.score(X_train, y_train)))\n",
    "print(\"Test score: \"+str(linear_model.score(X_test, y_test)))"
   ]
  },
  {
   "cell_type": "code",
   "execution_count": 20,
   "metadata": {},
   "outputs": [
    {
     "data": {
      "text/plain": [
       "array([9.6350708 , 9.6038208 , 9.64459229, ..., 9.62286377, 9.52996826,\n",
       "       9.53039551])"
      ]
     },
     "execution_count": 20,
     "metadata": {},
     "output_type": "execute_result"
    }
   ],
   "source": [
    "y_pred"
   ]
  },
  {
   "cell_type": "code",
   "execution_count": 21,
   "metadata": {},
   "outputs": [
    {
     "data": {
      "text/plain": [
       "<matplotlib.collections.PathCollection at 0xb419a5d208>"
      ]
     },
     "execution_count": 21,
     "metadata": {},
     "output_type": "execute_result"
    },
    {
     "data": {
      "image/png": "[encoded data removed]",
      "text/plain": [
       "<Figure size 432x288 with 1 Axes>"
      ]
     },
     "metadata": {
      "needs_background": "light"
     },
     "output_type": "display_data"
    }
   ],
   "source": [
    "plt.scatter(x=y_test, y=y_pred)"
   ]
  },
  {
   "cell_type": "code",
   "execution_count": 22,
   "metadata": {},
   "outputs": [
    {
     "name": "stdout",
     "output_type": "stream",
     "text": [
      "1.1640774714327242\n",
      "2.6208781576384714\n",
      "1.6189126466979222\n"
     ]
    }
   ],
   "source": [
    "print(metrics.mean_absolute_error(y_test, y_pred))\n",
    "print(metrics.mean_squared_error(y_test, y_pred))\n",
    "print(np.sqrt(metrics.mean_squared_error(y_test, y_pred)))"
   ]
  },
  {
   "cell_type": "code",
   "execution_count": 23,
   "metadata": {},
   "outputs": [
    {
     "name": "stdout",
     "output_type": "stream",
     "text": [
      "0.1599791035294177\n"
     ]
    }
   ],
   "source": [
    "print(rmsle(y_test, y_pred))"
   ]
  },
  {
   "cell_type": "code",
   "execution_count": 24,
   "metadata": {},
   "outputs": [
    {
     "data": {
      "text/plain": [
       "(array([   3.,    4.,   23.,   59.,  212.,  554., 2007., 1066.,  386.,\n",
       "         636.]),\n",
       " array([-8.29272175e+00, -7.10914881e+00, -5.92557587e+00, -4.74200293e+00,\n",
       "        -3.55842999e+00, -2.37485704e+00, -1.19128410e+00, -7.71115983e-03,\n",
       "         1.17586178e+00,  2.35943472e+00,  3.54300767e+00]),\n",
       " <a list of 10 Patch objects>)"
      ]
     },
     "execution_count": 24,
     "metadata": {},
     "output_type": "execute_result"
    },
    {
     "data": {
      "image/png": "[encoded data removed]",
      "text/plain": [
       "<Figure size 432x288 with 1 Axes>"
      ]
     },
     "metadata": {
      "needs_background": "light"
     },
     "output_type": "display_data"
    }
   ],
   "source": [
    "resid = y_test - y_pred\n",
    "plt.hist(resid)"
   ]
  },
  {
   "cell_type": "code",
   "execution_count": 25,
   "metadata": {},
   "outputs": [
    {
     "name": "stdout",
     "output_type": "stream",
     "text": [
      "Training score: 0.9999999999021875\n",
      "Test score: -1.0927027181500035\n"
     ]
    }
   ],
   "source": [
    "dt_model = DecisionTreeRegressor(random_state=0)\n",
    "dt_model.fit(X_train, y_train)\n",
    "y_pred_dt = dt_model.predict(X_test)\n",
    "print(\"Training score: \"+str(dt_model.score(X_train, y_train)))\n",
    "print(\"Test score: \"+str(dt_model.score(X_test, y_test)))"
   ]
  },
  {
   "cell_type": "code",
   "execution_count": 26,
   "metadata": {},
   "outputs": [
    {
     "name": "stdout",
     "output_type": "stream",
     "text": [
      "1.7826745680116496\n",
      "5.459563379990364\n",
      "2.3365708591845364\n"
     ]
    }
   ],
   "source": [
    "print(metrics.mean_absolute_error(y_test, y_pred_dt))\n",
    "print(metrics.mean_squared_error(y_test, y_pred_dt))\n",
    "print(np.sqrt(metrics.mean_squared_error(y_test, y_pred_dt)))"
   ]
  },
  {
   "cell_type": "code",
   "execution_count": 27,
   "metadata": {},
   "outputs": [
    {
     "name": "stdout",
     "output_type": "stream",
     "text": [
      "0.22884768654053028\n"
     ]
    }
   ],
   "source": [
    "print(rmsle(y_test, y_pred_dt))"
   ]
  },
  {
   "cell_type": "code",
   "execution_count": 28,
   "metadata": {},
   "outputs": [
    {
     "data": {
      "text/plain": [
       "(array([   2.,    8.,   45.,  245.,  851., 1642., 1288.,  677.,  160.,\n",
       "          32.]), array([-11.30200997,  -9.37778346,  -7.45355694,  -5.52933043,\n",
       "         -3.60510392,  -1.68087741,   0.24334911,   2.16757562,\n",
       "          4.09180213,   6.01602865,   7.94025516]), <a list of 10 Patch objects>)"
      ]
     },
     "execution_count": 28,
     "metadata": {},
     "output_type": "execute_result"
    },
    {
     "data": {
      "image/png": "[encoded data removed]",
      "text/plain": [
       "<Figure size 432x288 with 1 Axes>"
      ]
     },
     "metadata": {
      "needs_background": "light"
     },
     "output_type": "display_data"
    }
   ],
   "source": [
    "resid = y_test - y_pred_dt\n",
    "plt.hist(resid)"
   ]
  },
  {
   "cell_type": "code",
   "execution_count": 29,
   "metadata": {},
   "outputs": [
    {
     "name": "stdout",
     "output_type": "stream",
     "text": [
      "Training score: 0.7940463357331583\n",
      "Test score: 0.8061026591854189\n"
     ]
    }
   ],
   "source": [
    "rf_model = RandomForestRegressor(random_state=0)\n",
    "rf_model.fit(scaled_df, y)\n",
    "y_pred_rf = rf_model.predict(X_test)\n",
    "print(\"Training score: \"+str(rf_model.score(X_train, y_train)))\n",
    "print(\"Test score: \"+str(rf_model.score(X_test, y_test)))"
   ]
  },
  {
   "cell_type": "code",
   "execution_count": 30,
   "metadata": {},
   "outputs": [
    {
     "name": "stdout",
     "output_type": "stream",
     "text": [
      "0.5171500015398767\n",
      "0.5058505502036236\n",
      "0.7112317134405802\n"
     ]
    }
   ],
   "source": [
    "print(metrics.mean_absolute_error(y_test, y_pred_rf))\n",
    "print(metrics.mean_squared_error(y_test, y_pred_rf))\n",
    "print(np.sqrt(metrics.mean_squared_error(y_test, y_pred_rf)))"
   ]
  },
  {
   "cell_type": "code",
   "execution_count": 31,
   "metadata": {},
   "outputs": [
    {
     "name": "stdout",
     "output_type": "stream",
     "text": [
      "0.7112317134405814\n"
     ]
    }
   ],
   "source": [
    "print(rmsle(np.expm1(y_test), np.expm1(y_pred_rf)))"
   ]
  },
  {
   "cell_type": "code",
   "execution_count": 32,
   "metadata": {},
   "outputs": [
    {
     "data": {
      "text/plain": [
       "(array([   7.,   32.,  127.,  517., 1880., 1615.,  526.,  194.,   47.,\n",
       "           5.]),\n",
       " array([-3.23662695, -2.59086625, -1.94510554, -1.29934484, -0.65358413,\n",
       "        -0.00782343,  0.63793728,  1.28369798,  1.92945869,  2.57521939,\n",
       "         3.2209801 ]),\n",
       " <a list of 10 Patch objects>)"
      ]
     },
     "execution_count": 32,
     "metadata": {},
     "output_type": "execute_result"
    },
    {
     "data": {
      "image/png": "[encoded data removed]",
      "text/plain": [
       "<Figure size 432x288 with 1 Axes>"
      ]
     },
     "metadata": {
      "needs_background": "light"
     },
     "output_type": "display_data"
    }
   ],
   "source": [
    "resid = y_test - y_pred_rf\n",
    "plt.hist(resid)"
   ]
  },
  {
   "cell_type": "code",
   "execution_count": 33,
   "metadata": {},
   "outputs": [],
   "source": [
    "test_data = pd.read_csv('Test.csv')"
   ]
  },
  {
   "cell_type": "code",
   "execution_count": 34,
   "metadata": {},
   "outputs": [],
   "source": [
    "test_scaled = custom_pipeline(test_data, scaler_train)"
   ]
  },
  {
   "cell_type": "code",
   "execution_count": 35,
   "metadata": {},
   "outputs": [
    {
     "data": {
      "text/html": [
       "<div>\n",
       "<style scoped>\n",
       "    .dataframe tbody tr th:only-of-type {\n",
       "        vertical-align: middle;\n",
       "    }\n",
       "\n",
       "    .dataframe tbody tr th {\n",
       "        vertical-align: top;\n",
       "    }\n",
       "\n",
       "    .dataframe thead th {\n",
       "        text-align: right;\n",
       "    }\n",
       "</style>\n",
       "<table border=\"1\" class=\"dataframe\">\n",
       "  <thead>\n",
       "    <tr style=\"text-align: right;\">\n",
       "      <th></th>\n",
       "      <th>age</th>\n",
       "      <th>cc_cons_apr</th>\n",
       "      <th>dc_cons_apr</th>\n",
       "      <th>cc_cons_may</th>\n",
       "      <th>dc_cons_may</th>\n",
       "      <th>cc_cons_jun</th>\n",
       "      <th>dc_cons_jun</th>\n",
       "      <th>cc_count_apr</th>\n",
       "      <th>cc_count_may</th>\n",
       "      <th>cc_count_jun</th>\n",
       "      <th>...</th>\n",
       "      <th>debit_amount_jun</th>\n",
       "      <th>credit_amount_jun</th>\n",
       "      <th>credit_count_jun</th>\n",
       "      <th>debit_count_jun</th>\n",
       "      <th>max_credit_amount_jun</th>\n",
       "      <th>emi_active</th>\n",
       "      <th>account_type_current</th>\n",
       "      <th>account_type_saving</th>\n",
       "      <th>gender_F</th>\n",
       "      <th>gender_M</th>\n",
       "    </tr>\n",
       "  </thead>\n",
       "  <tbody>\n",
       "    <tr>\n",
       "      <th>0</th>\n",
       "      <td>-0.432509</td>\n",
       "      <td>-1.141164</td>\n",
       "      <td>-0.897372</td>\n",
       "      <td>-0.265498</td>\n",
       "      <td>-1.493053</td>\n",
       "      <td>0.337452</td>\n",
       "      <td>1.367558</td>\n",
       "      <td>-0.860677</td>\n",
       "      <td>-0.539222</td>\n",
       "      <td>-1.580945</td>\n",
       "      <td>...</td>\n",
       "      <td>-0.435913</td>\n",
       "      <td>-0.329662</td>\n",
       "      <td>-0.969468</td>\n",
       "      <td>-0.822768</td>\n",
       "      <td>-0.117456</td>\n",
       "      <td>-0.807599</td>\n",
       "      <td>1</td>\n",
       "      <td>0</td>\n",
       "      <td>0</td>\n",
       "      <td>1</td>\n",
       "    </tr>\n",
       "    <tr>\n",
       "      <th>1</th>\n",
       "      <td>-0.834163</td>\n",
       "      <td>1.041463</td>\n",
       "      <td>-0.695069</td>\n",
       "      <td>-1.445321</td>\n",
       "      <td>-0.338759</td>\n",
       "      <td>0.506929</td>\n",
       "      <td>-1.041570</td>\n",
       "      <td>-1.045959</td>\n",
       "      <td>-0.539222</td>\n",
       "      <td>-1.580945</td>\n",
       "      <td>...</td>\n",
       "      <td>-1.284128</td>\n",
       "      <td>-0.966051</td>\n",
       "      <td>-0.438721</td>\n",
       "      <td>0.277558</td>\n",
       "      <td>-0.877837</td>\n",
       "      <td>1.125516</td>\n",
       "      <td>1</td>\n",
       "      <td>0</td>\n",
       "      <td>0</td>\n",
       "      <td>1</td>\n",
       "    </tr>\n",
       "    <tr>\n",
       "      <th>2</th>\n",
       "      <td>0.836445</td>\n",
       "      <td>-0.435123</td>\n",
       "      <td>0.424547</td>\n",
       "      <td>-1.011407</td>\n",
       "      <td>-1.382158</td>\n",
       "      <td>-2.062939</td>\n",
       "      <td>0.224878</td>\n",
       "      <td>-0.470419</td>\n",
       "      <td>0.441097</td>\n",
       "      <td>-1.405771</td>\n",
       "      <td>...</td>\n",
       "      <td>-0.365511</td>\n",
       "      <td>-0.259404</td>\n",
       "      <td>-0.584919</td>\n",
       "      <td>-1.079622</td>\n",
       "      <td>-0.798343</td>\n",
       "      <td>-0.217741</td>\n",
       "      <td>1</td>\n",
       "      <td>0</td>\n",
       "      <td>0</td>\n",
       "      <td>1</td>\n",
       "    </tr>\n",
       "    <tr>\n",
       "      <th>3</th>\n",
       "      <td>-0.834163</td>\n",
       "      <td>-1.403799</td>\n",
       "      <td>1.335261</td>\n",
       "      <td>1.305597</td>\n",
       "      <td>-2.739351</td>\n",
       "      <td>-0.382698</td>\n",
       "      <td>1.597297</td>\n",
       "      <td>-1.621500</td>\n",
       "      <td>1.549234</td>\n",
       "      <td>0.981723</td>\n",
       "      <td>...</td>\n",
       "      <td>0.821859</td>\n",
       "      <td>0.926944</td>\n",
       "      <td>0.647339</td>\n",
       "      <td>-3.333848</td>\n",
       "      <td>0.917079</td>\n",
       "      <td>-1.708932</td>\n",
       "      <td>1</td>\n",
       "      <td>0</td>\n",
       "      <td>0</td>\n",
       "      <td>1</td>\n",
       "    </tr>\n",
       "    <tr>\n",
       "      <th>4</th>\n",
       "      <td>1.393108</td>\n",
       "      <td>-0.996043</td>\n",
       "      <td>-0.048376</td>\n",
       "      <td>-0.868015</td>\n",
       "      <td>-0.257089</td>\n",
       "      <td>-0.602670</td>\n",
       "      <td>0.410139</td>\n",
       "      <td>-1.284830</td>\n",
       "      <td>-0.539222</td>\n",
       "      <td>0.592153</td>\n",
       "      <td>...</td>\n",
       "      <td>-0.967710</td>\n",
       "      <td>-0.048151</td>\n",
       "      <td>-0.438721</td>\n",
       "      <td>0.174410</td>\n",
       "      <td>0.376888</td>\n",
       "      <td>-0.166597</td>\n",
       "      <td>1</td>\n",
       "      <td>0</td>\n",
       "      <td>0</td>\n",
       "      <td>1</td>\n",
       "    </tr>\n",
       "  </tbody>\n",
       "</table>\n",
       "<p>5 rows × 38 columns</p>\n",
       "</div>"
      ],
      "text/plain": [
       "        age  cc_cons_apr  dc_cons_apr  cc_cons_may  dc_cons_may  cc_cons_jun  \\\n",
       "0 -0.432509    -1.141164    -0.897372    -0.265498    -1.493053     0.337452   \n",
       "1 -0.834163     1.041463    -0.695069    -1.445321    -0.338759     0.506929   \n",
       "2  0.836445    -0.435123     0.424547    -1.011407    -1.382158    -2.062939   \n",
       "3 -0.834163    -1.403799     1.335261     1.305597    -2.739351    -0.382698   \n",
       "4  1.393108    -0.996043    -0.048376    -0.868015    -0.257089    -0.602670   \n",
       "\n",
       "   dc_cons_jun  cc_count_apr  cc_count_may  cc_count_jun  ...  \\\n",
       "0     1.367558     -0.860677     -0.539222     -1.580945  ...   \n",
       "1    -1.041570     -1.045959     -0.539222     -1.580945  ...   \n",
       "2     0.224878     -0.470419      0.441097     -1.405771  ...   \n",
       "3     1.597297     -1.621500      1.549234      0.981723  ...   \n",
       "4     0.410139     -1.284830     -0.539222      0.592153  ...   \n",
       "\n",
       "   debit_amount_jun  credit_amount_jun  credit_count_jun  debit_count_jun  \\\n",
       "0         -0.435913          -0.329662         -0.969468        -0.822768   \n",
       "1         -1.284128          -0.966051         -0.438721         0.277558   \n",
       "2         -0.365511          -0.259404         -0.584919        -1.079622   \n",
       "3          0.821859           0.926944          0.647339        -3.333848   \n",
       "4         -0.967710          -0.048151         -0.438721         0.174410   \n",
       "\n",
       "   max_credit_amount_jun  emi_active  account_type_current  \\\n",
       "0              -0.117456   -0.807599                     1   \n",
       "1              -0.877837    1.125516                     1   \n",
       "2              -0.798343   -0.217741                     1   \n",
       "3               0.917079   -1.708932                     1   \n",
       "4               0.376888   -0.166597                     1   \n",
       "\n",
       "   account_type_saving  gender_F  gender_M  \n",
       "0                    0         0         1  \n",
       "1                    0         0         1  \n",
       "2                    0         0         1  \n",
       "3                    0         0         1  \n",
       "4                    0         0         1  \n",
       "\n",
       "[5 rows x 38 columns]"
      ]
     },
     "execution_count": 35,
     "metadata": {},
     "output_type": "execute_result"
    }
   ],
   "source": [
    "test_scaled.head()"
   ]
  },
  {
   "cell_type": "code",
   "execution_count": 36,
   "metadata": {},
   "outputs": [],
   "source": [
    "y_pred_rf = rf_model.predict(test_scaled)"
   ]
  },
  {
   "cell_type": "code",
   "execution_count": 37,
   "metadata": {},
   "outputs": [
    {
     "data": {
      "text/plain": [
       "array([ 6918.91724629, 15334.52743054, 11730.27474615, ...,\n",
       "       17360.63511134, 35213.94884258, 28526.95930691])"
      ]
     },
     "execution_count": 37,
     "metadata": {},
     "output_type": "execute_result"
    }
   ],
   "source": [
    "np.expm1(y_pred_rf)"
   ]
  },
  {
   "cell_type": "code",
   "execution_count": 38,
   "metadata": {},
   "outputs": [],
   "source": [
    "to_submit = pd.DataFrame({'ID': test_data['ID'], 'cc_cons': np.expm1(y_pred_rf)} )"
   ]
  },
  {
   "cell_type": "code",
   "execution_count": 39,
   "metadata": {},
   "outputs": [],
   "source": [
    "to_submit.to_csv('full_data_train.csv', index=False)"
   ]
  },
  {
   "cell_type": "code",
   "execution_count": 40,
   "metadata": {},
   "outputs": [
    {
     "data": {
      "text/html": [
       "<div>\n",
       "<style scoped>\n",
       "    .dataframe tbody tr th:only-of-type {\n",
       "        vertical-align: middle;\n",
       "    }\n",
       "\n",
       "    .dataframe tbody tr th {\n",
       "        vertical-align: top;\n",
       "    }\n",
       "\n",
       "    .dataframe thead th {\n",
       "        text-align: right;\n",
       "    }\n",
       "</style>\n",
       "<table border=\"1\" class=\"dataframe\">\n",
       "  <thead>\n",
       "    <tr style=\"text-align: right;\">\n",
       "      <th></th>\n",
       "      <th>ID</th>\n",
       "      <th>cc_cons</th>\n",
       "    </tr>\n",
       "  </thead>\n",
       "  <tbody>\n",
       "    <tr>\n",
       "      <th>0</th>\n",
       "      <td>17591</td>\n",
       "      <td>6918.917246</td>\n",
       "    </tr>\n",
       "    <tr>\n",
       "      <th>1</th>\n",
       "      <td>13541</td>\n",
       "      <td>15334.527431</td>\n",
       "    </tr>\n",
       "    <tr>\n",
       "      <th>2</th>\n",
       "      <td>13431</td>\n",
       "      <td>11730.274746</td>\n",
       "    </tr>\n",
       "    <tr>\n",
       "      <th>3</th>\n",
       "      <td>8687</td>\n",
       "      <td>10838.804405</td>\n",
       "    </tr>\n",
       "    <tr>\n",
       "      <th>4</th>\n",
       "      <td>14727</td>\n",
       "      <td>6045.025601</td>\n",
       "    </tr>\n",
       "  </tbody>\n",
       "</table>\n",
       "</div>"
      ],
      "text/plain": [
       "      ID       cc_cons\n",
       "0  17591   6918.917246\n",
       "1  13541  15334.527431\n",
       "2  13431  11730.274746\n",
       "3   8687  10838.804405\n",
       "4  14727   6045.025601"
      ]
     },
     "execution_count": 40,
     "metadata": {},
     "output_type": "execute_result"
    }
   ],
   "source": [
    "to_submit.head()"
   ]
  },
  {
   "cell_type": "markdown",
   "metadata": {},
   "source": [
    "### We are getting RMSLE score of 0.7 on train and 1.7 on test. There is a possibility of overfitting. Applying L1 (Lasso) regularisation to check if it improves test RMSLE"
   ]
  },
  {
   "cell_type": "code",
   "execution_count": 41,
   "metadata": {},
   "outputs": [],
   "source": [
    "lasso_m_ = Lasso()\n",
    "alpha  = [0.001,0.005,0.01,0.3,0.1,0.3,0.5,0.7,1]\n",
    "lasso_params_ = { 'max_iter':[500],'alpha':alpha}\n",
    "rmsle_scorer = metrics.make_scorer(rmsle, greater_is_better=False)\n",
    "grid_lasso_m = GridSearchCV( lasso_m_, lasso_params_, scoring=rmsle_scorer, cv=5) #cv is the number of folds for cross validations"
   ]
  },
  {
   "cell_type": "code",
   "execution_count": 42,
   "metadata": {},
   "outputs": [
    {
     "data": {
      "text/plain": [
       "GridSearchCV(cv=5, error_score='raise-deprecating',\n",
       "             estimator=Lasso(alpha=1.0, copy_X=True, fit_intercept=True,\n",
       "                             max_iter=1000, normalize=False, positive=False,\n",
       "                             precompute=False, random_state=None,\n",
       "                             selection='cyclic', tol=0.0001, warm_start=False),\n",
       "             iid='warn', n_jobs=None,\n",
       "             param_grid={'alpha': [0.001, 0.005, 0.01, 0.3, 0.1, 0.3, 0.5, 0.7,\n",
       "                                   1],\n",
       "                         'max_iter': [500]},\n",
       "             pre_dispatch='2*n_jobs', refit=True, return_train_score=False,\n",
       "             scoring=make_scorer(rmsle, greater_is_better=False), verbose=0)"
      ]
     },
     "execution_count": 42,
     "metadata": {},
     "output_type": "execute_result"
    }
   ],
   "source": [
    "grid_lasso_m.fit(X = X_train,y =y_train)"
   ]
  },
  {
   "cell_type": "code",
   "execution_count": 43,
   "metadata": {},
   "outputs": [],
   "source": [
    "pred_lasso = grid_lasso_m.predict(X= X_test)"
   ]
  },
  {
   "cell_type": "code",
   "execution_count": 44,
   "metadata": {},
   "outputs": [
    {
     "data": {
      "text/plain": [
       "array([16206.0273311 , 15246.83058277, 15535.54485242, ...,\n",
       "       15927.22186555, 14493.94051765, 14263.33151168])"
      ]
     },
     "execution_count": 44,
     "metadata": {},
     "output_type": "execute_result"
    }
   ],
   "source": [
    "np.expm1(pred_lasso)"
   ]
  },
  {
   "cell_type": "code",
   "execution_count": 45,
   "metadata": {},
   "outputs": [
    {
     "name": "stdout",
     "output_type": "stream",
     "text": [
      "{'alpha': 0.01, 'max_iter': 500}\n"
     ]
    }
   ],
   "source": [
    "#getting the optimum value of alpha and iterations\n",
    "print (grid_lasso_m.best_params_)"
   ]
  },
  {
   "cell_type": "code",
   "execution_count": 46,
   "metadata": {},
   "outputs": [
    {
     "name": "stdout",
     "output_type": "stream",
     "text": [
      "1.6166496279549856\n"
     ]
    }
   ],
   "source": [
    "print(rmsle(np.expm1(y_test), np.expm1(pred_lasso)))"
   ]
  },
  {
   "cell_type": "code",
   "execution_count": 47,
   "metadata": {},
   "outputs": [
    {
     "data": {
      "text/plain": [
       "<matplotlib.collections.PathCollection at 0xb41e88beb8>"
      ]
     },
     "execution_count": 47,
     "metadata": {},
     "output_type": "execute_result"
    },
    {
     "data": {
      "image/png": "[encoded data removed]",
      "text/plain": [
       "<Figure size 432x288 with 1 Axes>"
      ]
     },
     "metadata": {
      "needs_background": "light"
     },
     "output_type": "display_data"
    }
   ],
   "source": [
    "plt.scatter(x=y_test, y=pred_lasso)"
   ]
  },
  {
   "cell_type": "code",
   "execution_count": 48,
   "metadata": {},
   "outputs": [
    {
     "data": {
      "text/html": [
       "<div>\n",
       "<style scoped>\n",
       "    .dataframe tbody tr th:only-of-type {\n",
       "        vertical-align: middle;\n",
       "    }\n",
       "\n",
       "    .dataframe tbody tr th {\n",
       "        vertical-align: top;\n",
       "    }\n",
       "\n",
       "    .dataframe thead th {\n",
       "        text-align: right;\n",
       "    }\n",
       "</style>\n",
       "<table border=\"1\" class=\"dataframe\">\n",
       "  <thead>\n",
       "    <tr style=\"text-align: right;\">\n",
       "      <th></th>\n",
       "      <th>age</th>\n",
       "      <th>cc_cons_apr</th>\n",
       "      <th>dc_cons_apr</th>\n",
       "      <th>cc_cons_may</th>\n",
       "      <th>dc_cons_may</th>\n",
       "      <th>cc_cons_jun</th>\n",
       "      <th>dc_cons_jun</th>\n",
       "      <th>cc_count_apr</th>\n",
       "      <th>cc_count_may</th>\n",
       "      <th>cc_count_jun</th>\n",
       "      <th>...</th>\n",
       "      <th>debit_amount_jun</th>\n",
       "      <th>credit_amount_jun</th>\n",
       "      <th>credit_count_jun</th>\n",
       "      <th>debit_count_jun</th>\n",
       "      <th>max_credit_amount_jun</th>\n",
       "      <th>emi_active</th>\n",
       "      <th>account_type_current</th>\n",
       "      <th>account_type_saving</th>\n",
       "      <th>gender_F</th>\n",
       "      <th>gender_M</th>\n",
       "    </tr>\n",
       "  </thead>\n",
       "  <tbody>\n",
       "    <tr>\n",
       "      <th>0</th>\n",
       "      <td>-0.432509</td>\n",
       "      <td>-1.141164</td>\n",
       "      <td>-0.897372</td>\n",
       "      <td>-0.265498</td>\n",
       "      <td>-1.493053</td>\n",
       "      <td>0.337452</td>\n",
       "      <td>1.367558</td>\n",
       "      <td>-0.860677</td>\n",
       "      <td>-0.539222</td>\n",
       "      <td>-1.580945</td>\n",
       "      <td>...</td>\n",
       "      <td>-0.435913</td>\n",
       "      <td>-0.329662</td>\n",
       "      <td>-0.969468</td>\n",
       "      <td>-0.822768</td>\n",
       "      <td>-0.117456</td>\n",
       "      <td>-0.807599</td>\n",
       "      <td>1</td>\n",
       "      <td>0</td>\n",
       "      <td>0</td>\n",
       "      <td>1</td>\n",
       "    </tr>\n",
       "    <tr>\n",
       "      <th>1</th>\n",
       "      <td>-0.834163</td>\n",
       "      <td>1.041463</td>\n",
       "      <td>-0.695069</td>\n",
       "      <td>-1.445321</td>\n",
       "      <td>-0.338759</td>\n",
       "      <td>0.506929</td>\n",
       "      <td>-1.041570</td>\n",
       "      <td>-1.045959</td>\n",
       "      <td>-0.539222</td>\n",
       "      <td>-1.580945</td>\n",
       "      <td>...</td>\n",
       "      <td>-1.284128</td>\n",
       "      <td>-0.966051</td>\n",
       "      <td>-0.438721</td>\n",
       "      <td>0.277558</td>\n",
       "      <td>-0.877837</td>\n",
       "      <td>1.125516</td>\n",
       "      <td>1</td>\n",
       "      <td>0</td>\n",
       "      <td>0</td>\n",
       "      <td>1</td>\n",
       "    </tr>\n",
       "    <tr>\n",
       "      <th>2</th>\n",
       "      <td>0.836445</td>\n",
       "      <td>-0.435123</td>\n",
       "      <td>0.424547</td>\n",
       "      <td>-1.011407</td>\n",
       "      <td>-1.382158</td>\n",
       "      <td>-2.062939</td>\n",
       "      <td>0.224878</td>\n",
       "      <td>-0.470419</td>\n",
       "      <td>0.441097</td>\n",
       "      <td>-1.405771</td>\n",
       "      <td>...</td>\n",
       "      <td>-0.365511</td>\n",
       "      <td>-0.259404</td>\n",
       "      <td>-0.584919</td>\n",
       "      <td>-1.079622</td>\n",
       "      <td>-0.798343</td>\n",
       "      <td>-0.217741</td>\n",
       "      <td>1</td>\n",
       "      <td>0</td>\n",
       "      <td>0</td>\n",
       "      <td>1</td>\n",
       "    </tr>\n",
       "    <tr>\n",
       "      <th>3</th>\n",
       "      <td>-0.834163</td>\n",
       "      <td>-1.403799</td>\n",
       "      <td>1.335261</td>\n",
       "      <td>1.305597</td>\n",
       "      <td>-2.739351</td>\n",
       "      <td>-0.382698</td>\n",
       "      <td>1.597297</td>\n",
       "      <td>-1.621500</td>\n",
       "      <td>1.549234</td>\n",
       "      <td>0.981723</td>\n",
       "      <td>...</td>\n",
       "      <td>0.821859</td>\n",
       "      <td>0.926944</td>\n",
       "      <td>0.647339</td>\n",
       "      <td>-3.333848</td>\n",
       "      <td>0.917079</td>\n",
       "      <td>-1.708932</td>\n",
       "      <td>1</td>\n",
       "      <td>0</td>\n",
       "      <td>0</td>\n",
       "      <td>1</td>\n",
       "    </tr>\n",
       "    <tr>\n",
       "      <th>4</th>\n",
       "      <td>1.393108</td>\n",
       "      <td>-0.996043</td>\n",
       "      <td>-0.048376</td>\n",
       "      <td>-0.868015</td>\n",
       "      <td>-0.257089</td>\n",
       "      <td>-0.602670</td>\n",
       "      <td>0.410139</td>\n",
       "      <td>-1.284830</td>\n",
       "      <td>-0.539222</td>\n",
       "      <td>0.592153</td>\n",
       "      <td>...</td>\n",
       "      <td>-0.967710</td>\n",
       "      <td>-0.048151</td>\n",
       "      <td>-0.438721</td>\n",
       "      <td>0.174410</td>\n",
       "      <td>0.376888</td>\n",
       "      <td>-0.166597</td>\n",
       "      <td>1</td>\n",
       "      <td>0</td>\n",
       "      <td>0</td>\n",
       "      <td>1</td>\n",
       "    </tr>\n",
       "  </tbody>\n",
       "</table>\n",
       "<p>5 rows × 38 columns</p>\n",
       "</div>"
      ],
      "text/plain": [
       "        age  cc_cons_apr  dc_cons_apr  cc_cons_may  dc_cons_may  cc_cons_jun  \\\n",
       "0 -0.432509    -1.141164    -0.897372    -0.265498    -1.493053     0.337452   \n",
       "1 -0.834163     1.041463    -0.695069    -1.445321    -0.338759     0.506929   \n",
       "2  0.836445    -0.435123     0.424547    -1.011407    -1.382158    -2.062939   \n",
       "3 -0.834163    -1.403799     1.335261     1.305597    -2.739351    -0.382698   \n",
       "4  1.393108    -0.996043    -0.048376    -0.868015    -0.257089    -0.602670   \n",
       "\n",
       "   dc_cons_jun  cc_count_apr  cc_count_may  cc_count_jun  ...  \\\n",
       "0     1.367558     -0.860677     -0.539222     -1.580945  ...   \n",
       "1    -1.041570     -1.045959     -0.539222     -1.580945  ...   \n",
       "2     0.224878     -0.470419      0.441097     -1.405771  ...   \n",
       "3     1.597297     -1.621500      1.549234      0.981723  ...   \n",
       "4     0.410139     -1.284830     -0.539222      0.592153  ...   \n",
       "\n",
       "   debit_amount_jun  credit_amount_jun  credit_count_jun  debit_count_jun  \\\n",
       "0         -0.435913          -0.329662         -0.969468        -0.822768   \n",
       "1         -1.284128          -0.966051         -0.438721         0.277558   \n",
       "2         -0.365511          -0.259404         -0.584919        -1.079622   \n",
       "3          0.821859           0.926944          0.647339        -3.333848   \n",
       "4         -0.967710          -0.048151         -0.438721         0.174410   \n",
       "\n",
       "   max_credit_amount_jun  emi_active  account_type_current  \\\n",
       "0              -0.117456   -0.807599                     1   \n",
       "1              -0.877837    1.125516                     1   \n",
       "2              -0.798343   -0.217741                     1   \n",
       "3               0.917079   -1.708932                     1   \n",
       "4               0.376888   -0.166597                     1   \n",
       "\n",
       "   account_type_saving  gender_F  gender_M  \n",
       "0                    0         0         1  \n",
       "1                    0         0         1  \n",
       "2                    0         0         1  \n",
       "3                    0         0         1  \n",
       "4                    0         0         1  \n",
       "\n",
       "[5 rows x 38 columns]"
      ]
     },
     "execution_count": 48,
     "metadata": {},
     "output_type": "execute_result"
    }
   ],
   "source": [
    "test_data = pd.read_csv('Test.csv')\n",
    "test_scaled = custom_pipeline(test_data, scaler_train)\n",
    "test_scaled.head()"
   ]
  },
  {
   "cell_type": "code",
   "execution_count": null,
   "metadata": {},
   "outputs": [],
   "source": []
  },
  {
   "cell_type": "code",
   "execution_count": 49,
   "metadata": {},
   "outputs": [
    {
     "data": {
      "text/plain": [
       "array([9.69764738, 9.73971061, 9.63973842, ..., 9.61614796, 9.55151509,\n",
       "       9.62549434])"
      ]
     },
     "execution_count": 49,
     "metadata": {},
     "output_type": "execute_result"
    }
   ],
   "source": [
    "pred_l1_test = grid_lasso_m.predict(test_scaled)\n",
    "pred_l1_test"
   ]
  },
  {
   "cell_type": "code",
   "execution_count": 57,
   "metadata": {},
   "outputs": [
    {
     "ename": "AttributeError",
     "evalue": "'Lasso' object has no attribute 'feature_importances_'",
     "output_type": "error",
     "traceback": [
      "\u001b[1;31m---------------------------------------------------------------------------\u001b[0m",
      "\u001b[1;31mAttributeError\u001b[0m                            Traceback (most recent call last)",
      "\u001b[1;32m<ipython-input-57-32318b803abe>\u001b[0m in \u001b[0;36m<module>\u001b[1;34m\u001b[0m\n\u001b[1;32m----> 1\u001b[1;33m \u001b[0mlasso_m_\u001b[0m\u001b[1;33m.\u001b[0m\u001b[0mfeature_importances_\u001b[0m\u001b[1;33m\u001b[0m\u001b[1;33m\u001b[0m\u001b[0m\n\u001b[0m",
      "\u001b[1;31mAttributeError\u001b[0m: 'Lasso' object has no attribute 'feature_importances_'"
     ]
    }
   ],
   "source": [
    "grid_lasso_m.best_estimator_.named_steps[\"step_name\"].feature_importances_"
   ]
  },
  {
   "cell_type": "code",
   "execution_count": 60,
   "metadata": {},
   "outputs": [
    {
     "data": {
      "text/html": [
       "<div>\n",
       "<style scoped>\n",
       "    .dataframe tbody tr th:only-of-type {\n",
       "        vertical-align: middle;\n",
       "    }\n",
       "\n",
       "    .dataframe tbody tr th {\n",
       "        vertical-align: top;\n",
       "    }\n",
       "\n",
       "    .dataframe thead th {\n",
       "        text-align: right;\n",
       "    }\n",
       "</style>\n",
       "<table border=\"1\" class=\"dataframe\">\n",
       "  <thead>\n",
       "    <tr style=\"text-align: right;\">\n",
       "      <th></th>\n",
       "      <th>ID</th>\n",
       "      <th>cc_cons</th>\n",
       "    </tr>\n",
       "  </thead>\n",
       "  <tbody>\n",
       "    <tr>\n",
       "      <th>0</th>\n",
       "      <td>17591</td>\n",
       "      <td>16278.263204</td>\n",
       "    </tr>\n",
       "    <tr>\n",
       "      <th>1</th>\n",
       "      <td>13541</td>\n",
       "      <td>16977.627168</td>\n",
       "    </tr>\n",
       "    <tr>\n",
       "      <th>2</th>\n",
       "      <td>13431</td>\n",
       "      <td>15362.324428</td>\n",
       "    </tr>\n",
       "    <tr>\n",
       "      <th>3</th>\n",
       "      <td>8687</td>\n",
       "      <td>15357.947189</td>\n",
       "    </tr>\n",
       "    <tr>\n",
       "      <th>4</th>\n",
       "      <td>14727</td>\n",
       "      <td>15006.215690</td>\n",
       "    </tr>\n",
       "  </tbody>\n",
       "</table>\n",
       "</div>"
      ],
      "text/plain": [
       "      ID       cc_cons\n",
       "0  17591  16278.263204\n",
       "1  13541  16977.627168\n",
       "2  13431  15362.324428\n",
       "3   8687  15357.947189\n",
       "4  14727  15006.215690"
      ]
     },
     "execution_count": 60,
     "metadata": {},
     "output_type": "execute_result"
    }
   ],
   "source": [
    "to_submit = pd.DataFrame({'ID': test_data['ID'], 'cc_cons': np.expm1(pred_l1_test)} )\n",
    "to_submit.to_csv('lasso_pred.csv', index=False)\n",
    "to_submit.head()"
   ]
  },
  {
   "cell_type": "markdown",
   "metadata": {},
   "source": [
    "### After applying Lasso the train and test RMSLE score are same...hence the problem of overfitting is removed"
   ]
  },
  {
   "cell_type": "code",
   "execution_count": null,
   "metadata": {},
   "outputs": [],
   "source": []
  }
 ],
 "metadata": {
  "kernelspec": {
   "display_name": "Python 3",
   "language": "python",
   "name": "python3"
  },
  "language_info": {
   "codemirror_mode": {
    "name": "ipython",
    "version": 3
   },
   "file_extension": ".py",
   "mimetype": "text/x-python",
   "name": "python",
   "nbconvert_exporter": "python",
   "pygments_lexer": "ipython3",
   "version": "3.7.3"
  }
 },
 "nbformat": 4,
 "nbformat_minor": 2
}
